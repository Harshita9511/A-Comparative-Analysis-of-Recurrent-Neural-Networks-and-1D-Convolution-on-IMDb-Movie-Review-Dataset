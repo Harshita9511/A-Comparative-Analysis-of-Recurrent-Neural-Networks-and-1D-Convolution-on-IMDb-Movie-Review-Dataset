{
 "cells": [
  {
   "cell_type": "markdown",
   "metadata": {},
   "source": [
    "# Import Libraries"
   ]
  },
  {
   "cell_type": "code",
   "execution_count": 1,
   "metadata": {
    "colab": {},
    "colab_type": "code",
    "id": "PdCe0MmMB5Xg"
   },
   "outputs": [],
   "source": [
    "import pandas as pd\n",
    "import numpy as np\n",
    "import matplotlib.pyplot as plt\n",
    "import seaborn as sns\n",
    "%matplotlib inline"
   ]
  },
  {
   "cell_type": "markdown",
   "metadata": {},
   "source": [
    "# Load the Dataset"
   ]
  },
  {
   "cell_type": "code",
   "execution_count": 0,
   "metadata": {
    "colab": {},
    "colab_type": "code",
    "id": "U3d1OSSoiODa"
   },
   "outputs": [],
   "source": [
    "import tensorflow as tf\n",
    "import tensorflow_datasets "
   ]
  },
  {
   "cell_type": "code",
   "execution_count": 0,
   "metadata": {
    "colab": {},
    "colab_type": "code",
    "id": "2guFqdXSDRHi"
   },
   "outputs": [],
   "source": [
    "imdb, info=tensorflow_datasets.load(\"imdb_reviews\", with_info=True, as_supervised=True)"
   ]
  },
  {
   "cell_type": "code",
   "execution_count": 48,
   "metadata": {
    "colab": {
     "base_uri": "https://localhost:8080/",
     "height": 68
    },
    "colab_type": "code",
    "id": "EgCGcABxEGnD",
    "outputId": "0d737f1b-337a-4bd7-f204-5cce37d51d90"
   },
   "outputs": [
    {
     "data": {
      "text/plain": [
       "{'test': <DatasetV1Adapter shapes: ((), ()), types: (tf.string, tf.int64)>,\n",
       " 'train': <DatasetV1Adapter shapes: ((), ()), types: (tf.string, tf.int64)>,\n",
       " 'unsupervised': <DatasetV1Adapter shapes: ((), ()), types: (tf.string, tf.int64)>}"
      ]
     },
     "execution_count": 48,
     "metadata": {
      "tags": []
     },
     "output_type": "execute_result"
    }
   ],
   "source": [
    "imdb"
   ]
  },
  {
   "cell_type": "code",
   "execution_count": 49,
   "metadata": {
    "colab": {
     "base_uri": "https://localhost:8080/",
     "height": 547
    },
    "colab_type": "code",
    "id": "425f7UwcEgsz",
    "outputId": "3c53b7cc-5a8f-4e7d-f6b8-d4bec3316ef8"
   },
   "outputs": [
    {
     "data": {
      "text/plain": [
       "tfds.core.DatasetInfo(\n",
       "    name='imdb_reviews',\n",
       "    version=1.0.0,\n",
       "    description='Large Movie Review Dataset.\n",
       "This is a dataset for binary sentiment classification containing substantially more data than previous benchmark datasets. We provide a set of 25,000 highly polar movie reviews for training, and 25,000 for testing. There is additional unlabeled data for use as well.',\n",
       "    homepage='http://ai.stanford.edu/~amaas/data/sentiment/',\n",
       "    features=FeaturesDict({\n",
       "        'label': ClassLabel(shape=(), dtype=tf.int64, num_classes=2),\n",
       "        'text': Text(shape=(), dtype=tf.string),\n",
       "    }),\n",
       "    total_num_examples=100000,\n",
       "    splits={\n",
       "        'test': 25000,\n",
       "        'train': 25000,\n",
       "        'unsupervised': 50000,\n",
       "    },\n",
       "    supervised_keys=('text', 'label'),\n",
       "    citation=\"\"\"@InProceedings{maas-EtAl:2011:ACL-HLT2011,\n",
       "      author    = {Maas, Andrew L.  and  Daly, Raymond E.  and  Pham, Peter T.  and  Huang, Dan  and  Ng, Andrew Y.  and  Potts, Christopher},\n",
       "      title     = {Learning Word Vectors for Sentiment Analysis},\n",
       "      booktitle = {Proceedings of the 49th Annual Meeting of the Association for Computational Linguistics: Human Language Technologies},\n",
       "      month     = {June},\n",
       "      year      = {2011},\n",
       "      address   = {Portland, Oregon, USA},\n",
       "      publisher = {Association for Computational Linguistics},\n",
       "      pages     = {142--150},\n",
       "      url       = {http://www.aclweb.org/anthology/P11-1015}\n",
       "    }\"\"\",\n",
       "    redistribution_info=,\n",
       ")"
      ]
     },
     "execution_count": 49,
     "metadata": {
      "tags": []
     },
     "output_type": "execute_result"
    }
   ],
   "source": [
    "info"
   ]
  },
  {
   "cell_type": "markdown",
   "metadata": {},
   "source": [
    "# Training and Testing Data"
   ]
  },
  {
   "cell_type": "code",
   "execution_count": 0,
   "metadata": {
    "colab": {},
    "colab_type": "code",
    "id": "MPt0HwsUFPVE"
   },
   "outputs": [],
   "source": [
    "train_data, test_data=imdb['train'], imdb['test']\n",
    "\n",
    "training_sentences=[]\n",
    "training_label=[]\n",
    "\n",
    "testing_sentences=[]\n",
    "testing_label=[]"
   ]
  },
  {
   "cell_type": "code",
   "execution_count": 0,
   "metadata": {
    "colab": {},
    "colab_type": "code",
    "id": "JDlLgL0sFetI"
   },
   "outputs": [],
   "source": [
    "for s,l in train_data:\n",
    "  training_sentences.append(str(s.numpy()))\n",
    "  training_label.append(l.numpy())\n",
    "\n",
    "for s,l in test_data:\n",
    "  testing_sentences.append(str(s.numpy()))\n",
    "  testing_label.append(l.numpy())\n",
    "\n",
    "training_label_final=np.array(training_label)\n",
    "testing_label_final=np.array(testing_label)"
   ]
  },
  {
   "cell_type": "markdown",
   "metadata": {},
   "source": [
    "# Tokenization and Padding"
   ]
  },
  {
   "cell_type": "code",
   "execution_count": 0,
   "metadata": {
    "colab": {},
    "colab_type": "code",
    "id": "_OxOHpWJFe1J"
   },
   "outputs": [],
   "source": [
    "vocab_size=10000\n",
    "embedding_dim=16\n",
    "max_length=120\n",
    "trunc_type='post'\n",
    "oov_tok='<oov>'\n",
    "\n",
    "from tensorflow.keras.preprocessing.text import Tokenizer\n",
    "from tensorflow.keras.preprocessing.sequence import pad_sequences\n",
    "\n",
    "tokenizer= Tokenizer(num_words=vocab_size, oov_token=oov_tok)\n",
    "tokenizer.fit_on_texts(training_sentences)\n",
    "word_index=tokenizer.word_index\n",
    "sequences=tokenizer.texts_to_sequences(training_sentences)\n",
    "padded=pad_sequences(sequences, maxlen=max_length, truncating=trunc_type)\n",
    "\n",
    "testing_sequences=tokenizer.texts_to_sequences(testing_sentences)\n",
    "testing_padded=pad_sequences(testing_sequences, maxlen=max_length)"
   ]
  },
  {
   "cell_type": "code",
   "execution_count": 0,
   "metadata": {
    "colab": {},
    "colab_type": "code",
    "id": "5C9u8NrxQnYy"
   },
   "outputs": [],
   "source": [
    "from tensorflow.keras.models import Sequential\n",
    "from tensorflow.keras.layers import Dense, Dropout, Embedding\n"
   ]
  },
  {
   "cell_type": "markdown",
   "metadata": {},
   "source": [
    "# Multi-layer Bidirectional LSTM  "
   ]
  },
  {
   "cell_type": "code",
   "execution_count": 56,
   "metadata": {
    "colab": {
     "base_uri": "https://localhost:8080/",
     "height": 425
    },
    "colab_type": "code",
    "id": "S2GKQbYPQnW-",
    "outputId": "a91cd00d-49e8-43fa-c8e3-1c0a0f49d60b"
   },
   "outputs": [
    {
     "name": "stdout",
     "output_type": "stream",
     "text": [
      "Model: \"sequential_3\"\n",
      "_________________________________________________________________\n",
      "Layer (type)                 Output Shape              Param #   \n",
      "=================================================================\n",
      "embedding_3 (Embedding)      (None, 120, 16)           160000    \n",
      "_________________________________________________________________\n",
      "bidirectional_6 (Bidirection (None, 120, 128)          41472     \n",
      "_________________________________________________________________\n",
      "bidirectional_7 (Bidirection (None, 64)                41216     \n",
      "_________________________________________________________________\n",
      "dense_9 (Dense)              (None, 24)                1560      \n",
      "_________________________________________________________________\n",
      "dropout_6 (Dropout)          (None, 24)                0         \n",
      "_________________________________________________________________\n",
      "dense_10 (Dense)             (None, 10)                250       \n",
      "_________________________________________________________________\n",
      "dropout_7 (Dropout)          (None, 10)                0         \n",
      "_________________________________________________________________\n",
      "dense_11 (Dense)             (None, 1)                 11        \n",
      "=================================================================\n",
      "Total params: 244,509\n",
      "Trainable params: 244,509\n",
      "Non-trainable params: 0\n",
      "_________________________________________________________________\n"
     ]
    }
   ],
   "source": [
    "from tensorflow.keras.layers import Bidirectional, LSTM\n",
    "model = Sequential()\n",
    "\n",
    "model.add(Embedding(vocab_size,embedding_dim, input_length=max_length))\n",
    "\n",
    "model.add(Bidirectional(LSTM(64, return_sequences=True)))\n",
    "\n",
    "model.add(Bidirectional(LSTM(32)))\n",
    "\n",
    "model.add(Dense(units=24,activation='relu'))\n",
    "model.add(Dropout(0.5))\n",
    "\n",
    "model.add(Dense(units=10,activation='relu'))\n",
    "model.add(Dropout(0.5))\n",
    "\n",
    "model.add(Dense(units=1,activation='sigmoid'))\n",
    "\n",
    "opt = tf.keras.optimizers.Adam(learning_rate=0.0001)\n",
    "model.compile(loss='binary_crossentropy', optimizer=opt, metrics=['accuracy'])\n",
    "model.summary()"
   ]
  },
  {
   "cell_type": "code",
   "execution_count": 0,
   "metadata": {
    "colab": {},
    "colab_type": "code",
    "id": "rP4ESZxuWmHN"
   },
   "outputs": [],
   "source": [
    "from tensorflow.keras.callbacks import EarlyStopping\n",
    "early_stop = EarlyStopping(monitor='val_loss', mode='min', verbose=1, patience=5)"
   ]
  },
  {
   "cell_type": "code",
   "execution_count": 58,
   "metadata": {
    "colab": {
     "base_uri": "https://localhost:8080/",
     "height": 459
    },
    "colab_type": "code",
    "id": "CeTjvEb6WuXJ",
    "outputId": "18a20c25-f610-41d4-d9fa-3565515435f3"
   },
   "outputs": [
    {
     "name": "stdout",
     "output_type": "stream",
     "text": [
      "Epoch 1/100\n",
      "98/98 [==============================] - 6s 58ms/step - loss: 0.6931 - accuracy: 0.5005 - val_loss: 0.6929 - val_accuracy: 0.5250\n",
      "Epoch 2/100\n",
      "98/98 [==============================] - 5s 47ms/step - loss: 0.6924 - accuracy: 0.5212 - val_loss: 0.6911 - val_accuracy: 0.5878\n",
      "Epoch 3/100\n",
      "98/98 [==============================] - 5s 47ms/step - loss: 0.6539 - accuracy: 0.6304 - val_loss: 0.5516 - val_accuracy: 0.7576\n",
      "Epoch 4/100\n",
      "98/98 [==============================] - 5s 51ms/step - loss: 0.5395 - accuracy: 0.7557 - val_loss: 0.4385 - val_accuracy: 0.8117\n",
      "Epoch 5/100\n",
      "98/98 [==============================] - 5s 47ms/step - loss: 0.4684 - accuracy: 0.8051 - val_loss: 0.3911 - val_accuracy: 0.8301\n",
      "Epoch 6/100\n",
      "98/98 [==============================] - 5s 48ms/step - loss: 0.4220 - accuracy: 0.8384 - val_loss: 0.3708 - val_accuracy: 0.8400\n",
      "Epoch 7/100\n",
      "98/98 [==============================] - 5s 48ms/step - loss: 0.3826 - accuracy: 0.8590 - val_loss: 0.3590 - val_accuracy: 0.8424\n",
      "Epoch 8/100\n",
      "98/98 [==============================] - 5s 47ms/step - loss: 0.3555 - accuracy: 0.8724 - val_loss: 0.3603 - val_accuracy: 0.8430\n",
      "Epoch 9/100\n",
      "98/98 [==============================] - 5s 47ms/step - loss: 0.3318 - accuracy: 0.8832 - val_loss: 0.4004 - val_accuracy: 0.8400\n",
      "Epoch 10/100\n",
      "98/98 [==============================] - 5s 48ms/step - loss: 0.3103 - accuracy: 0.8944 - val_loss: 0.3826 - val_accuracy: 0.8412\n",
      "Epoch 11/100\n",
      "98/98 [==============================] - 5s 48ms/step - loss: 0.2915 - accuracy: 0.9028 - val_loss: 0.3885 - val_accuracy: 0.8395\n",
      "Epoch 12/100\n",
      "98/98 [==============================] - 5s 47ms/step - loss: 0.2772 - accuracy: 0.9118 - val_loss: 0.4204 - val_accuracy: 0.8389\n",
      "Epoch 00012: early stopping\n"
     ]
    },
    {
     "data": {
      "text/plain": [
       "<tensorflow.python.keras.callbacks.History at 0x7fb739142d68>"
      ]
     },
     "execution_count": 58,
     "metadata": {
      "tags": []
     },
     "output_type": "execute_result"
    }
   ],
   "source": [
    "model.fit(x=padded, y=training_label_final, batch_size=256, epochs=100, validation_data=(testing_padded, testing_label_final), verbose=1, callbacks=[early_stop])"
   ]
  },
  {
   "cell_type": "code",
   "execution_count": 59,
   "metadata": {
    "colab": {
     "base_uri": "https://localhost:8080/",
     "height": 452
    },
    "colab_type": "code",
    "id": "j8RAVEika7Lb",
    "outputId": "fb458514-6eb7-4c36-e189-6df658cbd0c0"
   },
   "outputs": [
    {
     "data": {
      "text/html": [
       "<div>\n",
       "<style scoped>\n",
       "    .dataframe tbody tr th:only-of-type {\n",
       "        vertical-align: middle;\n",
       "    }\n",
       "\n",
       "    .dataframe tbody tr th {\n",
       "        vertical-align: top;\n",
       "    }\n",
       "\n",
       "    .dataframe thead th {\n",
       "        text-align: right;\n",
       "    }\n",
       "</style>\n",
       "<table border=\"1\" class=\"dataframe\">\n",
       "  <thead>\n",
       "    <tr style=\"text-align: right;\">\n",
       "      <th></th>\n",
       "      <th>loss</th>\n",
       "      <th>accuracy</th>\n",
       "      <th>val_loss</th>\n",
       "      <th>val_accuracy</th>\n",
       "      <th>Epoch</th>\n",
       "    </tr>\n",
       "    <tr>\n",
       "      <th>Epoch</th>\n",
       "      <th></th>\n",
       "      <th></th>\n",
       "      <th></th>\n",
       "      <th></th>\n",
       "      <th></th>\n",
       "    </tr>\n",
       "  </thead>\n",
       "  <tbody>\n",
       "    <tr>\n",
       "      <th>1</th>\n",
       "      <td>0.693133</td>\n",
       "      <td>0.50048</td>\n",
       "      <td>0.692940</td>\n",
       "      <td>0.52500</td>\n",
       "      <td>1</td>\n",
       "    </tr>\n",
       "    <tr>\n",
       "      <th>2</th>\n",
       "      <td>0.692442</td>\n",
       "      <td>0.52124</td>\n",
       "      <td>0.691069</td>\n",
       "      <td>0.58776</td>\n",
       "      <td>2</td>\n",
       "    </tr>\n",
       "    <tr>\n",
       "      <th>3</th>\n",
       "      <td>0.653876</td>\n",
       "      <td>0.63044</td>\n",
       "      <td>0.551588</td>\n",
       "      <td>0.75760</td>\n",
       "      <td>3</td>\n",
       "    </tr>\n",
       "    <tr>\n",
       "      <th>4</th>\n",
       "      <td>0.539474</td>\n",
       "      <td>0.75572</td>\n",
       "      <td>0.438481</td>\n",
       "      <td>0.81168</td>\n",
       "      <td>4</td>\n",
       "    </tr>\n",
       "    <tr>\n",
       "      <th>5</th>\n",
       "      <td>0.468417</td>\n",
       "      <td>0.80508</td>\n",
       "      <td>0.391061</td>\n",
       "      <td>0.83012</td>\n",
       "      <td>5</td>\n",
       "    </tr>\n",
       "    <tr>\n",
       "      <th>6</th>\n",
       "      <td>0.421962</td>\n",
       "      <td>0.83840</td>\n",
       "      <td>0.370768</td>\n",
       "      <td>0.83996</td>\n",
       "      <td>6</td>\n",
       "    </tr>\n",
       "    <tr>\n",
       "      <th>7</th>\n",
       "      <td>0.382585</td>\n",
       "      <td>0.85900</td>\n",
       "      <td>0.359048</td>\n",
       "      <td>0.84240</td>\n",
       "      <td>7</td>\n",
       "    </tr>\n",
       "    <tr>\n",
       "      <th>8</th>\n",
       "      <td>0.355519</td>\n",
       "      <td>0.87244</td>\n",
       "      <td>0.360275</td>\n",
       "      <td>0.84300</td>\n",
       "      <td>8</td>\n",
       "    </tr>\n",
       "    <tr>\n",
       "      <th>9</th>\n",
       "      <td>0.331753</td>\n",
       "      <td>0.88316</td>\n",
       "      <td>0.400393</td>\n",
       "      <td>0.84000</td>\n",
       "      <td>9</td>\n",
       "    </tr>\n",
       "    <tr>\n",
       "      <th>10</th>\n",
       "      <td>0.310330</td>\n",
       "      <td>0.89436</td>\n",
       "      <td>0.382620</td>\n",
       "      <td>0.84124</td>\n",
       "      <td>10</td>\n",
       "    </tr>\n",
       "    <tr>\n",
       "      <th>11</th>\n",
       "      <td>0.291526</td>\n",
       "      <td>0.90280</td>\n",
       "      <td>0.388518</td>\n",
       "      <td>0.83952</td>\n",
       "      <td>11</td>\n",
       "    </tr>\n",
       "    <tr>\n",
       "      <th>12</th>\n",
       "      <td>0.277247</td>\n",
       "      <td>0.91176</td>\n",
       "      <td>0.420450</td>\n",
       "      <td>0.83892</td>\n",
       "      <td>12</td>\n",
       "    </tr>\n",
       "  </tbody>\n",
       "</table>\n",
       "</div>"
      ],
      "text/plain": [
       "           loss  accuracy  val_loss  val_accuracy  Epoch\n",
       "Epoch                                                   \n",
       "1      0.693133   0.50048  0.692940       0.52500      1\n",
       "2      0.692442   0.52124  0.691069       0.58776      2\n",
       "3      0.653876   0.63044  0.551588       0.75760      3\n",
       "4      0.539474   0.75572  0.438481       0.81168      4\n",
       "5      0.468417   0.80508  0.391061       0.83012      5\n",
       "6      0.421962   0.83840  0.370768       0.83996      6\n",
       "7      0.382585   0.85900  0.359048       0.84240      7\n",
       "8      0.355519   0.87244  0.360275       0.84300      8\n",
       "9      0.331753   0.88316  0.400393       0.84000      9\n",
       "10     0.310330   0.89436  0.382620       0.84124     10\n",
       "11     0.291526   0.90280  0.388518       0.83952     11\n",
       "12     0.277247   0.91176  0.420450       0.83892     12"
      ]
     },
     "execution_count": 59,
     "metadata": {
      "tags": []
     },
     "output_type": "execute_result"
    }
   ],
   "source": [
    "df_lstm=pd.DataFrame(model.history.history)\n",
    "df_lstm['Epoch']=range(1,13)\n",
    "df_lstm.index=df_lstm['Epoch']\n",
    "df_lstm"
   ]
  },
  {
   "cell_type": "code",
   "execution_count": 60,
   "metadata": {
    "colab": {
     "base_uri": "https://localhost:8080/",
     "height": 51
    },
    "colab_type": "code",
    "id": "u52CmZtDa7Ps",
    "outputId": "97c36414-5806-4669-9ab5-284397e9270c"
   },
   "outputs": [
    {
     "name": "stdout",
     "output_type": "stream",
     "text": [
      "391/391 [==============================] - 4s 10ms/step - loss: 0.4204 - accuracy: 0.8389\n",
      "Test accuracy: 0.838919997215271\n"
     ]
    }
   ],
   "source": [
    "score_lstm = model.evaluate(testing_padded, testing_label_final, batch_size=64, verbose=1)\n",
    "print('Test accuracy:', score_lstm[1])"
   ]
  },
  {
   "cell_type": "code",
   "execution_count": 61,
   "metadata": {
    "colab": {
     "base_uri": "https://localhost:8080/",
     "height": 295
    },
    "colab_type": "code",
    "id": "N5xOi8lNa7On",
    "outputId": "3beb0002-c037-4bdd-97cd-5c6b0ce916ec"
   },
   "outputs": [
    {
     "data": {
      "image/png": "[encoded data removed]",
      "text/plain": [
       "<Figure size 432x288 with 1 Axes>"
      ]
     },
     "metadata": {
      "needs_background": "light",
      "tags": []
     },
     "output_type": "display_data"
    }
   ],
   "source": [
    "#Loss Graph - Multi-layer Bidirectional LSTM (Training and Validation)\n",
    "plt.plot(df_lstm['loss'], color='red')\n",
    "plt.plot(df_lstm['val_loss'], color='yellow')\n",
    "plt.title('Multi-layer Bidirectional LSTM Model Loss')\n",
    "plt.ylabel('loss')\n",
    "plt.xlabel('epoch')\n",
    "plt.legend(['train_loss', 'val_loss'])\n",
    "plt.show()"
   ]
  },
  {
   "cell_type": "code",
   "execution_count": 62,
   "metadata": {
    "colab": {
     "base_uri": "https://localhost:8080/",
     "height": 295
    },
    "colab_type": "code",
    "id": "C5OlTQbra7JW",
    "outputId": "e699596f-6c87-41eb-9398-9ad9772a2294"
   },
   "outputs": [
    {
     "data": {
      "image/png": "[encoded data removed]",
      "text/plain": [
       "<Figure size 432x288 with 1 Axes>"
      ]
     },
     "metadata": {
      "needs_background": "light",
      "tags": []
     },
     "output_type": "display_data"
    }
   ],
   "source": [
    "# Accuracy Graph - Multi-layer Bidirectional LSTM (Training and Validation) \n",
    "plt.plot(df_lstm['accuracy'], color='red')\n",
    "plt.plot(df_lstm['val_accuracy'], color='yellow')\n",
    "plt.title('Multi-layer Bidirectional LSTM Model Accuracy')\n",
    "plt.ylabel('accuracy')\n",
    "plt.xlabel('epoch')\n",
    "plt.legend(['train_acc', 'val_acc'])\n",
    "plt.show()"
   ]
  },
  {
   "cell_type": "markdown",
   "metadata": {},
   "source": [
    "# 1D Convolution "
   ]
  },
  {
   "cell_type": "code",
   "execution_count": 63,
   "metadata": {
    "colab": {
     "base_uri": "https://localhost:8080/",
     "height": 425
    },
    "colab_type": "code",
    "id": "ljC2FQPPiZjm",
    "outputId": "256a6adb-85a0-4409-eda1-87ef448b55e2"
   },
   "outputs": [
    {
     "name": "stdout",
     "output_type": "stream",
     "text": [
      "Model: \"sequential_4\"\n",
      "_________________________________________________________________\n",
      "Layer (type)                 Output Shape              Param #   \n",
      "=================================================================\n",
      "embedding_4 (Embedding)      (None, 120, 16)           160000    \n",
      "_________________________________________________________________\n",
      "conv1d (Conv1D)              (None, 116, 128)          10368     \n",
      "_________________________________________________________________\n",
      "global_max_pooling1d (Global (None, 128)               0         \n",
      "_________________________________________________________________\n",
      "dense_12 (Dense)             (None, 24)                3096      \n",
      "_________________________________________________________________\n",
      "dropout_8 (Dropout)          (None, 24)                0         \n",
      "_________________________________________________________________\n",
      "dense_13 (Dense)             (None, 10)                250       \n",
      "_________________________________________________________________\n",
      "dropout_9 (Dropout)          (None, 10)                0         \n",
      "_________________________________________________________________\n",
      "dense_14 (Dense)             (None, 1)                 11        \n",
      "=================================================================\n",
      "Total params: 173,725\n",
      "Trainable params: 173,725\n",
      "Non-trainable params: 0\n",
      "_________________________________________________________________\n"
     ]
    }
   ],
   "source": [
    "from tensorflow.keras.layers import Conv1D, GlobalMaxPooling1D\n",
    "model_conv = Sequential()\n",
    "\n",
    "model_conv.add(Embedding(vocab_size,embedding_dim, input_length=max_length))\n",
    "\n",
    "model_conv.add(Conv1D(128, 5, activation='relu'))\n",
    "model_conv.add(GlobalMaxPooling1D())\n",
    "\n",
    "model_conv.add(Dense(units=24,activation='relu'))\n",
    "model_conv.add(Dropout(0.5))\n",
    "\n",
    "model_conv.add(Dense(units=10,activation='relu'))\n",
    "model_conv.add(Dropout(0.5))\n",
    "\n",
    "model_conv.add(Dense(units=1,activation='sigmoid'))\n",
    "\n",
    "opt = tf.keras.optimizers.Adam(learning_rate=0.0001)\n",
    "model_conv.compile(loss='binary_crossentropy', optimizer=opt, metrics=['accuracy'])\n",
    "model_conv.summary()"
   ]
  },
  {
   "cell_type": "code",
   "execution_count": 64,
   "metadata": {
    "colab": {
     "base_uri": "https://localhost:8080/",
     "height": 1000
    },
    "colab_type": "code",
    "id": "3Bns5hgLjsFo",
    "outputId": "43cf7559-cfc0-4088-cdc2-f654a657f567"
   },
   "outputs": [
    {
     "name": "stdout",
     "output_type": "stream",
     "text": [
      "Epoch 1/100\n",
      "98/98 [==============================] - 1s 14ms/step - loss: 0.6934 - accuracy: 0.4995 - val_loss: 0.6929 - val_accuracy: 0.5204\n",
      "Epoch 2/100\n",
      "98/98 [==============================] - 1s 10ms/step - loss: 0.6929 - accuracy: 0.5057 - val_loss: 0.6927 - val_accuracy: 0.5321\n",
      "Epoch 3/100\n",
      "98/98 [==============================] - 1s 10ms/step - loss: 0.6920 - accuracy: 0.5179 - val_loss: 0.6921 - val_accuracy: 0.5586\n",
      "Epoch 4/100\n",
      "98/98 [==============================] - 1s 10ms/step - loss: 0.6914 - accuracy: 0.5292 - val_loss: 0.6911 - val_accuracy: 0.6012\n",
      "Epoch 5/100\n",
      "98/98 [==============================] - 1s 10ms/step - loss: 0.6897 - accuracy: 0.5499 - val_loss: 0.6889 - val_accuracy: 0.6570\n",
      "Epoch 6/100\n",
      "98/98 [==============================] - 1s 11ms/step - loss: 0.6869 - accuracy: 0.5690 - val_loss: 0.6845 - val_accuracy: 0.6781\n",
      "Epoch 7/100\n",
      "98/98 [==============================] - 1s 10ms/step - loss: 0.6801 - accuracy: 0.6001 - val_loss: 0.6752 - val_accuracy: 0.7103\n",
      "Epoch 8/100\n",
      "98/98 [==============================] - 1s 10ms/step - loss: 0.6691 - accuracy: 0.6180 - val_loss: 0.6578 - val_accuracy: 0.7166\n",
      "Epoch 9/100\n",
      "98/98 [==============================] - 1s 10ms/step - loss: 0.6521 - accuracy: 0.6342 - val_loss: 0.6307 - val_accuracy: 0.7383\n",
      "Epoch 10/100\n",
      "98/98 [==============================] - 1s 11ms/step - loss: 0.6303 - accuracy: 0.6638 - val_loss: 0.5967 - val_accuracy: 0.7694\n",
      "Epoch 11/100\n",
      "98/98 [==============================] - 1s 10ms/step - loss: 0.6009 - accuracy: 0.6972 - val_loss: 0.5599 - val_accuracy: 0.7691\n",
      "Epoch 12/100\n",
      "98/98 [==============================] - 1s 10ms/step - loss: 0.5736 - accuracy: 0.7154 - val_loss: 0.5252 - val_accuracy: 0.7926\n",
      "Epoch 13/100\n",
      "98/98 [==============================] - 1s 10ms/step - loss: 0.5444 - accuracy: 0.7420 - val_loss: 0.4944 - val_accuracy: 0.8026\n",
      "Epoch 14/100\n",
      "98/98 [==============================] - 1s 10ms/step - loss: 0.5252 - accuracy: 0.7578 - val_loss: 0.4713 - val_accuracy: 0.8092\n",
      "Epoch 15/100\n",
      "98/98 [==============================] - 1s 10ms/step - loss: 0.4988 - accuracy: 0.7808 - val_loss: 0.4515 - val_accuracy: 0.8154\n",
      "Epoch 16/100\n",
      "98/98 [==============================] - 1s 11ms/step - loss: 0.4800 - accuracy: 0.7956 - val_loss: 0.4348 - val_accuracy: 0.8207\n",
      "Epoch 17/100\n",
      "98/98 [==============================] - 1s 10ms/step - loss: 0.4613 - accuracy: 0.8098 - val_loss: 0.4218 - val_accuracy: 0.8252\n",
      "Epoch 18/100\n",
      "98/98 [==============================] - 1s 10ms/step - loss: 0.4385 - accuracy: 0.8284 - val_loss: 0.4091 - val_accuracy: 0.8270\n",
      "Epoch 19/100\n",
      "98/98 [==============================] - 1s 10ms/step - loss: 0.4230 - accuracy: 0.8334 - val_loss: 0.4012 - val_accuracy: 0.8305\n",
      "Epoch 20/100\n",
      "98/98 [==============================] - 1s 11ms/step - loss: 0.4079 - accuracy: 0.8477 - val_loss: 0.3938 - val_accuracy: 0.8326\n",
      "Epoch 21/100\n",
      "98/98 [==============================] - 1s 11ms/step - loss: 0.3880 - accuracy: 0.8577 - val_loss: 0.3899 - val_accuracy: 0.8315\n",
      "Epoch 22/100\n",
      "98/98 [==============================] - 1s 10ms/step - loss: 0.3712 - accuracy: 0.8653 - val_loss: 0.3839 - val_accuracy: 0.8334\n",
      "Epoch 23/100\n",
      "98/98 [==============================] - 1s 10ms/step - loss: 0.3535 - accuracy: 0.8756 - val_loss: 0.3807 - val_accuracy: 0.8332\n",
      "Epoch 24/100\n",
      "98/98 [==============================] - 1s 11ms/step - loss: 0.3405 - accuracy: 0.8835 - val_loss: 0.3792 - val_accuracy: 0.8342\n",
      "Epoch 25/100\n",
      "98/98 [==============================] - 1s 10ms/step - loss: 0.3254 - accuracy: 0.8904 - val_loss: 0.3787 - val_accuracy: 0.8334\n",
      "Epoch 26/100\n",
      "98/98 [==============================] - 1s 10ms/step - loss: 0.3159 - accuracy: 0.8954 - val_loss: 0.3811 - val_accuracy: 0.8310\n",
      "Epoch 27/100\n",
      "98/98 [==============================] - 1s 10ms/step - loss: 0.2995 - accuracy: 0.9027 - val_loss: 0.3819 - val_accuracy: 0.8314\n",
      "Epoch 28/100\n",
      "98/98 [==============================] - 1s 11ms/step - loss: 0.2859 - accuracy: 0.9113 - val_loss: 0.3841 - val_accuracy: 0.8313\n",
      "Epoch 29/100\n",
      "98/98 [==============================] - 1s 11ms/step - loss: 0.2740 - accuracy: 0.9170 - val_loss: 0.3895 - val_accuracy: 0.8300\n",
      "Epoch 30/100\n",
      "98/98 [==============================] - 1s 10ms/step - loss: 0.2569 - accuracy: 0.9228 - val_loss: 0.3939 - val_accuracy: 0.8298\n",
      "Epoch 00030: early stopping\n"
     ]
    },
    {
     "data": {
      "text/plain": [
       "<tensorflow.python.keras.callbacks.History at 0x7fb6a507d080>"
      ]
     },
     "execution_count": 64,
     "metadata": {
      "tags": []
     },
     "output_type": "execute_result"
    }
   ],
   "source": [
    "model_conv.fit(x=padded, y=training_label_final, batch_size=256, epochs=100, validation_data=(testing_padded, testing_label_final), verbose=1, callbacks=[early_stop])"
   ]
  },
  {
   "cell_type": "code",
   "execution_count": 65,
   "metadata": {
    "colab": {
     "base_uri": "https://localhost:8080/",
     "height": 1000
    },
    "colab_type": "code",
    "id": "OkVNAccokhcW",
    "outputId": "ec1297e0-5b01-4481-f656-d8648f9f6323"
   },
   "outputs": [
    {
     "data": {
      "text/html": [
       "<div>\n",
       "<style scoped>\n",
       "    .dataframe tbody tr th:only-of-type {\n",
       "        vertical-align: middle;\n",
       "    }\n",
       "\n",
       "    .dataframe tbody tr th {\n",
       "        vertical-align: top;\n",
       "    }\n",
       "\n",
       "    .dataframe thead th {\n",
       "        text-align: right;\n",
       "    }\n",
       "</style>\n",
       "<table border=\"1\" class=\"dataframe\">\n",
       "  <thead>\n",
       "    <tr style=\"text-align: right;\">\n",
       "      <th></th>\n",
       "      <th>loss</th>\n",
       "      <th>accuracy</th>\n",
       "      <th>val_loss</th>\n",
       "      <th>val_accuracy</th>\n",
       "      <th>Epoch</th>\n",
       "    </tr>\n",
       "    <tr>\n",
       "      <th>Epoch</th>\n",
       "      <th></th>\n",
       "      <th></th>\n",
       "      <th></th>\n",
       "      <th></th>\n",
       "      <th></th>\n",
       "    </tr>\n",
       "  </thead>\n",
       "  <tbody>\n",
       "    <tr>\n",
       "      <th>1</th>\n",
       "      <td>0.693423</td>\n",
       "      <td>0.49948</td>\n",
       "      <td>0.692945</td>\n",
       "      <td>0.52040</td>\n",
       "      <td>1</td>\n",
       "    </tr>\n",
       "    <tr>\n",
       "      <th>2</th>\n",
       "      <td>0.692916</td>\n",
       "      <td>0.50572</td>\n",
       "      <td>0.692682</td>\n",
       "      <td>0.53208</td>\n",
       "      <td>2</td>\n",
       "    </tr>\n",
       "    <tr>\n",
       "      <th>3</th>\n",
       "      <td>0.691967</td>\n",
       "      <td>0.51788</td>\n",
       "      <td>0.692111</td>\n",
       "      <td>0.55856</td>\n",
       "      <td>3</td>\n",
       "    </tr>\n",
       "    <tr>\n",
       "      <th>4</th>\n",
       "      <td>0.691417</td>\n",
       "      <td>0.52916</td>\n",
       "      <td>0.691126</td>\n",
       "      <td>0.60120</td>\n",
       "      <td>4</td>\n",
       "    </tr>\n",
       "    <tr>\n",
       "      <th>5</th>\n",
       "      <td>0.689704</td>\n",
       "      <td>0.54992</td>\n",
       "      <td>0.688933</td>\n",
       "      <td>0.65700</td>\n",
       "      <td>5</td>\n",
       "    </tr>\n",
       "    <tr>\n",
       "      <th>6</th>\n",
       "      <td>0.686874</td>\n",
       "      <td>0.56904</td>\n",
       "      <td>0.684488</td>\n",
       "      <td>0.67808</td>\n",
       "      <td>6</td>\n",
       "    </tr>\n",
       "    <tr>\n",
       "      <th>7</th>\n",
       "      <td>0.680114</td>\n",
       "      <td>0.60012</td>\n",
       "      <td>0.675235</td>\n",
       "      <td>0.71032</td>\n",
       "      <td>7</td>\n",
       "    </tr>\n",
       "    <tr>\n",
       "      <th>8</th>\n",
       "      <td>0.669086</td>\n",
       "      <td>0.61800</td>\n",
       "      <td>0.657797</td>\n",
       "      <td>0.71664</td>\n",
       "      <td>8</td>\n",
       "    </tr>\n",
       "    <tr>\n",
       "      <th>9</th>\n",
       "      <td>0.652082</td>\n",
       "      <td>0.63424</td>\n",
       "      <td>0.630687</td>\n",
       "      <td>0.73828</td>\n",
       "      <td>9</td>\n",
       "    </tr>\n",
       "    <tr>\n",
       "      <th>10</th>\n",
       "      <td>0.630274</td>\n",
       "      <td>0.66376</td>\n",
       "      <td>0.596685</td>\n",
       "      <td>0.76936</td>\n",
       "      <td>10</td>\n",
       "    </tr>\n",
       "    <tr>\n",
       "      <th>11</th>\n",
       "      <td>0.600913</td>\n",
       "      <td>0.69716</td>\n",
       "      <td>0.559866</td>\n",
       "      <td>0.76912</td>\n",
       "      <td>11</td>\n",
       "    </tr>\n",
       "    <tr>\n",
       "      <th>12</th>\n",
       "      <td>0.573577</td>\n",
       "      <td>0.71536</td>\n",
       "      <td>0.525237</td>\n",
       "      <td>0.79260</td>\n",
       "      <td>12</td>\n",
       "    </tr>\n",
       "    <tr>\n",
       "      <th>13</th>\n",
       "      <td>0.544402</td>\n",
       "      <td>0.74200</td>\n",
       "      <td>0.494393</td>\n",
       "      <td>0.80256</td>\n",
       "      <td>13</td>\n",
       "    </tr>\n",
       "    <tr>\n",
       "      <th>14</th>\n",
       "      <td>0.525163</td>\n",
       "      <td>0.75784</td>\n",
       "      <td>0.471265</td>\n",
       "      <td>0.80916</td>\n",
       "      <td>14</td>\n",
       "    </tr>\n",
       "    <tr>\n",
       "      <th>15</th>\n",
       "      <td>0.498771</td>\n",
       "      <td>0.78084</td>\n",
       "      <td>0.451489</td>\n",
       "      <td>0.81544</td>\n",
       "      <td>15</td>\n",
       "    </tr>\n",
       "    <tr>\n",
       "      <th>16</th>\n",
       "      <td>0.480002</td>\n",
       "      <td>0.79556</td>\n",
       "      <td>0.434764</td>\n",
       "      <td>0.82072</td>\n",
       "      <td>16</td>\n",
       "    </tr>\n",
       "    <tr>\n",
       "      <th>17</th>\n",
       "      <td>0.461320</td>\n",
       "      <td>0.80984</td>\n",
       "      <td>0.421800</td>\n",
       "      <td>0.82524</td>\n",
       "      <td>17</td>\n",
       "    </tr>\n",
       "    <tr>\n",
       "      <th>18</th>\n",
       "      <td>0.438462</td>\n",
       "      <td>0.82836</td>\n",
       "      <td>0.409146</td>\n",
       "      <td>0.82696</td>\n",
       "      <td>18</td>\n",
       "    </tr>\n",
       "    <tr>\n",
       "      <th>19</th>\n",
       "      <td>0.422990</td>\n",
       "      <td>0.83344</td>\n",
       "      <td>0.401202</td>\n",
       "      <td>0.83048</td>\n",
       "      <td>19</td>\n",
       "    </tr>\n",
       "    <tr>\n",
       "      <th>20</th>\n",
       "      <td>0.407946</td>\n",
       "      <td>0.84772</td>\n",
       "      <td>0.393809</td>\n",
       "      <td>0.83260</td>\n",
       "      <td>20</td>\n",
       "    </tr>\n",
       "    <tr>\n",
       "      <th>21</th>\n",
       "      <td>0.388014</td>\n",
       "      <td>0.85772</td>\n",
       "      <td>0.389872</td>\n",
       "      <td>0.83152</td>\n",
       "      <td>21</td>\n",
       "    </tr>\n",
       "    <tr>\n",
       "      <th>22</th>\n",
       "      <td>0.371151</td>\n",
       "      <td>0.86532</td>\n",
       "      <td>0.383868</td>\n",
       "      <td>0.83340</td>\n",
       "      <td>22</td>\n",
       "    </tr>\n",
       "    <tr>\n",
       "      <th>23</th>\n",
       "      <td>0.353531</td>\n",
       "      <td>0.87560</td>\n",
       "      <td>0.380670</td>\n",
       "      <td>0.83316</td>\n",
       "      <td>23</td>\n",
       "    </tr>\n",
       "    <tr>\n",
       "      <th>24</th>\n",
       "      <td>0.340464</td>\n",
       "      <td>0.88348</td>\n",
       "      <td>0.379155</td>\n",
       "      <td>0.83424</td>\n",
       "      <td>24</td>\n",
       "    </tr>\n",
       "    <tr>\n",
       "      <th>25</th>\n",
       "      <td>0.325382</td>\n",
       "      <td>0.89036</td>\n",
       "      <td>0.378727</td>\n",
       "      <td>0.83344</td>\n",
       "      <td>25</td>\n",
       "    </tr>\n",
       "    <tr>\n",
       "      <th>26</th>\n",
       "      <td>0.315894</td>\n",
       "      <td>0.89536</td>\n",
       "      <td>0.381075</td>\n",
       "      <td>0.83096</td>\n",
       "      <td>26</td>\n",
       "    </tr>\n",
       "    <tr>\n",
       "      <th>27</th>\n",
       "      <td>0.299544</td>\n",
       "      <td>0.90272</td>\n",
       "      <td>0.381851</td>\n",
       "      <td>0.83140</td>\n",
       "      <td>27</td>\n",
       "    </tr>\n",
       "    <tr>\n",
       "      <th>28</th>\n",
       "      <td>0.285899</td>\n",
       "      <td>0.91132</td>\n",
       "      <td>0.384106</td>\n",
       "      <td>0.83128</td>\n",
       "      <td>28</td>\n",
       "    </tr>\n",
       "    <tr>\n",
       "      <th>29</th>\n",
       "      <td>0.274012</td>\n",
       "      <td>0.91700</td>\n",
       "      <td>0.389483</td>\n",
       "      <td>0.83004</td>\n",
       "      <td>29</td>\n",
       "    </tr>\n",
       "    <tr>\n",
       "      <th>30</th>\n",
       "      <td>0.256883</td>\n",
       "      <td>0.92280</td>\n",
       "      <td>0.393941</td>\n",
       "      <td>0.82980</td>\n",
       "      <td>30</td>\n",
       "    </tr>\n",
       "  </tbody>\n",
       "</table>\n",
       "</div>"
      ],
      "text/plain": [
       "           loss  accuracy  val_loss  val_accuracy  Epoch\n",
       "Epoch                                                   \n",
       "1      0.693423   0.49948  0.692945       0.52040      1\n",
       "2      0.692916   0.50572  0.692682       0.53208      2\n",
       "3      0.691967   0.51788  0.692111       0.55856      3\n",
       "4      0.691417   0.52916  0.691126       0.60120      4\n",
       "5      0.689704   0.54992  0.688933       0.65700      5\n",
       "6      0.686874   0.56904  0.684488       0.67808      6\n",
       "7      0.680114   0.60012  0.675235       0.71032      7\n",
       "8      0.669086   0.61800  0.657797       0.71664      8\n",
       "9      0.652082   0.63424  0.630687       0.73828      9\n",
       "10     0.630274   0.66376  0.596685       0.76936     10\n",
       "11     0.600913   0.69716  0.559866       0.76912     11\n",
       "12     0.573577   0.71536  0.525237       0.79260     12\n",
       "13     0.544402   0.74200  0.494393       0.80256     13\n",
       "14     0.525163   0.75784  0.471265       0.80916     14\n",
       "15     0.498771   0.78084  0.451489       0.81544     15\n",
       "16     0.480002   0.79556  0.434764       0.82072     16\n",
       "17     0.461320   0.80984  0.421800       0.82524     17\n",
       "18     0.438462   0.82836  0.409146       0.82696     18\n",
       "19     0.422990   0.83344  0.401202       0.83048     19\n",
       "20     0.407946   0.84772  0.393809       0.83260     20\n",
       "21     0.388014   0.85772  0.389872       0.83152     21\n",
       "22     0.371151   0.86532  0.383868       0.83340     22\n",
       "23     0.353531   0.87560  0.380670       0.83316     23\n",
       "24     0.340464   0.88348  0.379155       0.83424     24\n",
       "25     0.325382   0.89036  0.378727       0.83344     25\n",
       "26     0.315894   0.89536  0.381075       0.83096     26\n",
       "27     0.299544   0.90272  0.381851       0.83140     27\n",
       "28     0.285899   0.91132  0.384106       0.83128     28\n",
       "29     0.274012   0.91700  0.389483       0.83004     29\n",
       "30     0.256883   0.92280  0.393941       0.82980     30"
      ]
     },
     "execution_count": 65,
     "metadata": {
      "tags": []
     },
     "output_type": "execute_result"
    }
   ],
   "source": [
    "df_conv1D=pd.DataFrame(model_conv.history.history)\n",
    "df_conv1D['Epoch']=range(1,31)\n",
    "df_conv1D.index=df_conv1D['Epoch']\n",
    "df_conv1D"
   ]
  },
  {
   "cell_type": "code",
   "execution_count": 66,
   "metadata": {
    "colab": {
     "base_uri": "https://localhost:8080/",
     "height": 51
    },
    "colab_type": "code",
    "id": "ei_N_appkibt",
    "outputId": "8ff27af7-9ca1-466a-f323-f5fd22a3a64e"
   },
   "outputs": [
    {
     "name": "stdout",
     "output_type": "stream",
     "text": [
      "391/391 [==============================] - 1s 2ms/step - loss: 0.3939 - accuracy: 0.8298\n",
      "Test accuracy: 0.829800009727478\n"
     ]
    }
   ],
   "source": [
    "score_conv1D = model_conv.evaluate(testing_padded, testing_label_final, batch_size=64, verbose=1)\n",
    "print('Test accuracy:', score_conv1D[1])"
   ]
  },
  {
   "cell_type": "code",
   "execution_count": 67,
   "metadata": {
    "colab": {
     "base_uri": "https://localhost:8080/",
     "height": 295
    },
    "colab_type": "code",
    "id": "bg-UT5X3kifl",
    "outputId": "3365f649-2687-4618-c9bd-b81000cb019d"
   },
   "outputs": [
    {
     "data": {
      "image/png": "[encoded data removed]",
      "text/plain": [
       "<Figure size 432x288 with 1 Axes>"
      ]
     },
     "metadata": {
      "needs_background": "light",
      "tags": []
     },
     "output_type": "display_data"
    }
   ],
   "source": [
    "#Loss Graph - 1D Convolution (Training and Validation)\n",
    "plt.plot(df_conv1D['loss'], color='orange')\n",
    "plt.plot(df_conv1D['val_loss'], color='cyan')\n",
    "plt.title('1D Convolution Layer Model Loss')\n",
    "plt.ylabel('loss')\n",
    "plt.xlabel('epoch')\n",
    "plt.legend(['train_loss', 'val_loss'])\n",
    "plt.show()"
   ]
  },
  {
   "cell_type": "code",
   "execution_count": 68,
   "metadata": {
    "colab": {
     "base_uri": "https://localhost:8080/",
     "height": 295
    },
    "colab_type": "code",
    "id": "bxAD3I4NkiZ9",
    "outputId": "1d2fb7b0-ab75-4f03-bca4-b7a91da0115f"
   },
   "outputs": [
    {
     "data": {
      "image/png": "[encoded data removed]",
      "text/plain": [
       "<Figure size 432x288 with 1 Axes>"
      ]
     },
     "metadata": {
      "needs_background": "light",
      "tags": []
     },
     "output_type": "display_data"
    }
   ],
   "source": [
    "# Accuracy Graph - 1D Convolution (Training and Validation) \n",
    "plt.plot(df_conv1D['accuracy'], color='orange')\n",
    "plt.plot(df_conv1D['val_accuracy'], color='cyan')\n",
    "plt.title('1D Convolution Layer Model Accuracy')\n",
    "plt.ylabel('accuracy')\n",
    "plt.xlabel('epoch')\n",
    "plt.legend(['train_acc', 'val_acc'])\n",
    "plt.show()"
   ]
  },
  {
   "cell_type": "markdown",
   "metadata": {},
   "source": [
    "# Gated recurrent unit (GRU)"
   ]
  },
  {
   "cell_type": "code",
   "execution_count": 69,
   "metadata": {
    "colab": {
     "base_uri": "https://localhost:8080/",
     "height": 391
    },
    "colab_type": "code",
    "id": "8vdWckg2oKlY",
    "outputId": "433ff2b2-66d8-46fa-b72d-3ba097a85692"
   },
   "outputs": [
    {
     "name": "stdout",
     "output_type": "stream",
     "text": [
      "Model: \"sequential_5\"\n",
      "_________________________________________________________________\n",
      "Layer (type)                 Output Shape              Param #   \n",
      "=================================================================\n",
      "embedding_5 (Embedding)      (None, 120, 16)           160000    \n",
      "_________________________________________________________________\n",
      "bidirectional_8 (Bidirection (None, 128)               31488     \n",
      "_________________________________________________________________\n",
      "dense_15 (Dense)             (None, 24)                3096      \n",
      "_________________________________________________________________\n",
      "dropout_10 (Dropout)         (None, 24)                0         \n",
      "_________________________________________________________________\n",
      "dense_16 (Dense)             (None, 10)                250       \n",
      "_________________________________________________________________\n",
      "dropout_11 (Dropout)         (None, 10)                0         \n",
      "_________________________________________________________________\n",
      "dense_17 (Dense)             (None, 1)                 11        \n",
      "=================================================================\n",
      "Total params: 194,845\n",
      "Trainable params: 194,845\n",
      "Non-trainable params: 0\n",
      "_________________________________________________________________\n"
     ]
    }
   ],
   "source": [
    "from tensorflow.keras.layers import GRU\n",
    "model_gru = Sequential()\n",
    "\n",
    "model_gru.add(Embedding(vocab_size,embedding_dim, input_length=max_length))\n",
    "\n",
    "model_gru.add(Bidirectional(GRU(64)))\n",
    "\n",
    "model_gru.add(Dense(units=24,activation='relu'))\n",
    "model_gru.add(Dropout(0.5))\n",
    "\n",
    "model_gru.add(Dense(units=10,activation='relu'))\n",
    "model_gru.add(Dropout(0.5))\n",
    "\n",
    "model_gru.add(Dense(units=1,activation='sigmoid'))\n",
    "\n",
    "opt = tf.keras.optimizers.Adam(learning_rate=0.0001)\n",
    "model_gru.compile(loss='binary_crossentropy', optimizer=opt, metrics=['accuracy'])\n",
    "model_gru.summary()"
   ]
  },
  {
   "cell_type": "code",
   "execution_count": 70,
   "metadata": {
    "colab": {
     "base_uri": "https://localhost:8080/",
     "height": 629
    },
    "colab_type": "code",
    "id": "XxVSZ-jdsF5H",
    "outputId": "51f0382c-cd5d-4dae-d48c-4967485aa83f"
   },
   "outputs": [
    {
     "name": "stdout",
     "output_type": "stream",
     "text": [
      "Epoch 1/100\n",
      "98/98 [==============================] - 3s 31ms/step - loss: 0.6931 - accuracy: 0.5007 - val_loss: 0.6930 - val_accuracy: 0.5132\n",
      "Epoch 2/100\n",
      "98/98 [==============================] - 2s 25ms/step - loss: 0.6930 - accuracy: 0.5096 - val_loss: 0.6929 - val_accuracy: 0.5176\n",
      "Epoch 3/100\n",
      "98/98 [==============================] - 3s 26ms/step - loss: 0.6928 - accuracy: 0.5124 - val_loss: 0.6927 - val_accuracy: 0.5138\n",
      "Epoch 4/100\n",
      "98/98 [==============================] - 2s 25ms/step - loss: 0.6926 - accuracy: 0.5111 - val_loss: 0.6925 - val_accuracy: 0.5273\n",
      "Epoch 5/100\n",
      "98/98 [==============================] - 2s 25ms/step - loss: 0.6917 - accuracy: 0.5268 - val_loss: 0.6916 - val_accuracy: 0.5417\n",
      "Epoch 6/100\n",
      "98/98 [==============================] - 2s 25ms/step - loss: 0.6886 - accuracy: 0.5531 - val_loss: 0.6859 - val_accuracy: 0.5755\n",
      "Epoch 7/100\n",
      "98/98 [==============================] - 3s 26ms/step - loss: 0.6241 - accuracy: 0.6654 - val_loss: 0.5123 - val_accuracy: 0.7888\n",
      "Epoch 8/100\n",
      "98/98 [==============================] - 2s 26ms/step - loss: 0.5116 - accuracy: 0.7651 - val_loss: 0.4159 - val_accuracy: 0.8265\n",
      "Epoch 9/100\n",
      "98/98 [==============================] - 2s 25ms/step - loss: 0.4482 - accuracy: 0.8048 - val_loss: 0.3876 - val_accuracy: 0.8387\n",
      "Epoch 10/100\n",
      "98/98 [==============================] - 2s 25ms/step - loss: 0.4154 - accuracy: 0.8314 - val_loss: 0.3642 - val_accuracy: 0.8426\n",
      "Epoch 11/100\n",
      "98/98 [==============================] - 2s 25ms/step - loss: 0.3834 - accuracy: 0.8477 - val_loss: 0.3582 - val_accuracy: 0.8455\n",
      "Epoch 12/100\n",
      "98/98 [==============================] - 2s 25ms/step - loss: 0.3596 - accuracy: 0.8646 - val_loss: 0.3497 - val_accuracy: 0.8471\n",
      "Epoch 13/100\n",
      "98/98 [==============================] - 2s 25ms/step - loss: 0.3455 - accuracy: 0.8728 - val_loss: 0.3563 - val_accuracy: 0.8453\n",
      "Epoch 14/100\n",
      "98/98 [==============================] - 3s 26ms/step - loss: 0.3266 - accuracy: 0.8806 - val_loss: 0.3582 - val_accuracy: 0.8439\n",
      "Epoch 15/100\n",
      "98/98 [==============================] - 2s 25ms/step - loss: 0.3067 - accuracy: 0.8882 - val_loss: 0.3800 - val_accuracy: 0.8427\n",
      "Epoch 16/100\n",
      "98/98 [==============================] - 2s 25ms/step - loss: 0.2922 - accuracy: 0.8952 - val_loss: 0.3781 - val_accuracy: 0.8416\n",
      "Epoch 17/100\n",
      "98/98 [==============================] - 2s 25ms/step - loss: 0.2805 - accuracy: 0.9031 - val_loss: 0.3836 - val_accuracy: 0.8410\n",
      "Epoch 00017: early stopping\n"
     ]
    },
    {
     "data": {
      "text/plain": [
       "<tensorflow.python.keras.callbacks.History at 0x7fb6a3b9e240>"
      ]
     },
     "execution_count": 70,
     "metadata": {
      "tags": []
     },
     "output_type": "execute_result"
    }
   ],
   "source": [
    "model_gru.fit(x=padded, y=training_label_final, batch_size=256, epochs=100, validation_data=(testing_padded, testing_label_final), verbose=1, callbacks=[early_stop])"
   ]
  },
  {
   "cell_type": "code",
   "execution_count": 71,
   "metadata": {
    "colab": {
     "base_uri": "https://localhost:8080/",
     "height": 607
    },
    "colab_type": "code",
    "id": "Kqce8A2ZsNVW",
    "outputId": "e09b1da4-4806-4db8-bfea-c297358ffbfb"
   },
   "outputs": [
    {
     "data": {
      "text/html": [
       "<div>\n",
       "<style scoped>\n",
       "    .dataframe tbody tr th:only-of-type {\n",
       "        vertical-align: middle;\n",
       "    }\n",
       "\n",
       "    .dataframe tbody tr th {\n",
       "        vertical-align: top;\n",
       "    }\n",
       "\n",
       "    .dataframe thead th {\n",
       "        text-align: right;\n",
       "    }\n",
       "</style>\n",
       "<table border=\"1\" class=\"dataframe\">\n",
       "  <thead>\n",
       "    <tr style=\"text-align: right;\">\n",
       "      <th></th>\n",
       "      <th>loss</th>\n",
       "      <th>accuracy</th>\n",
       "      <th>val_loss</th>\n",
       "      <th>val_accuracy</th>\n",
       "      <th>Epoch</th>\n",
       "    </tr>\n",
       "    <tr>\n",
       "      <th>Epoch</th>\n",
       "      <th></th>\n",
       "      <th></th>\n",
       "      <th></th>\n",
       "      <th></th>\n",
       "      <th></th>\n",
       "    </tr>\n",
       "  </thead>\n",
       "  <tbody>\n",
       "    <tr>\n",
       "      <th>1</th>\n",
       "      <td>0.693126</td>\n",
       "      <td>0.50072</td>\n",
       "      <td>0.693023</td>\n",
       "      <td>0.51316</td>\n",
       "      <td>1</td>\n",
       "    </tr>\n",
       "    <tr>\n",
       "      <th>2</th>\n",
       "      <td>0.692992</td>\n",
       "      <td>0.50960</td>\n",
       "      <td>0.692884</td>\n",
       "      <td>0.51756</td>\n",
       "      <td>2</td>\n",
       "    </tr>\n",
       "    <tr>\n",
       "      <th>3</th>\n",
       "      <td>0.692798</td>\n",
       "      <td>0.51236</td>\n",
       "      <td>0.692715</td>\n",
       "      <td>0.51376</td>\n",
       "      <td>3</td>\n",
       "    </tr>\n",
       "    <tr>\n",
       "      <th>4</th>\n",
       "      <td>0.692611</td>\n",
       "      <td>0.51112</td>\n",
       "      <td>0.692482</td>\n",
       "      <td>0.52728</td>\n",
       "      <td>4</td>\n",
       "    </tr>\n",
       "    <tr>\n",
       "      <th>5</th>\n",
       "      <td>0.691710</td>\n",
       "      <td>0.52684</td>\n",
       "      <td>0.691557</td>\n",
       "      <td>0.54172</td>\n",
       "      <td>5</td>\n",
       "    </tr>\n",
       "    <tr>\n",
       "      <th>6</th>\n",
       "      <td>0.688563</td>\n",
       "      <td>0.55308</td>\n",
       "      <td>0.685861</td>\n",
       "      <td>0.57548</td>\n",
       "      <td>6</td>\n",
       "    </tr>\n",
       "    <tr>\n",
       "      <th>7</th>\n",
       "      <td>0.624094</td>\n",
       "      <td>0.66536</td>\n",
       "      <td>0.512277</td>\n",
       "      <td>0.78876</td>\n",
       "      <td>7</td>\n",
       "    </tr>\n",
       "    <tr>\n",
       "      <th>8</th>\n",
       "      <td>0.511589</td>\n",
       "      <td>0.76512</td>\n",
       "      <td>0.415949</td>\n",
       "      <td>0.82652</td>\n",
       "      <td>8</td>\n",
       "    </tr>\n",
       "    <tr>\n",
       "      <th>9</th>\n",
       "      <td>0.448217</td>\n",
       "      <td>0.80476</td>\n",
       "      <td>0.387551</td>\n",
       "      <td>0.83872</td>\n",
       "      <td>9</td>\n",
       "    </tr>\n",
       "    <tr>\n",
       "      <th>10</th>\n",
       "      <td>0.415409</td>\n",
       "      <td>0.83136</td>\n",
       "      <td>0.364231</td>\n",
       "      <td>0.84260</td>\n",
       "      <td>10</td>\n",
       "    </tr>\n",
       "    <tr>\n",
       "      <th>11</th>\n",
       "      <td>0.383431</td>\n",
       "      <td>0.84768</td>\n",
       "      <td>0.358177</td>\n",
       "      <td>0.84548</td>\n",
       "      <td>11</td>\n",
       "    </tr>\n",
       "    <tr>\n",
       "      <th>12</th>\n",
       "      <td>0.359603</td>\n",
       "      <td>0.86456</td>\n",
       "      <td>0.349693</td>\n",
       "      <td>0.84708</td>\n",
       "      <td>12</td>\n",
       "    </tr>\n",
       "    <tr>\n",
       "      <th>13</th>\n",
       "      <td>0.345492</td>\n",
       "      <td>0.87276</td>\n",
       "      <td>0.356350</td>\n",
       "      <td>0.84528</td>\n",
       "      <td>13</td>\n",
       "    </tr>\n",
       "    <tr>\n",
       "      <th>14</th>\n",
       "      <td>0.326553</td>\n",
       "      <td>0.88060</td>\n",
       "      <td>0.358158</td>\n",
       "      <td>0.84388</td>\n",
       "      <td>14</td>\n",
       "    </tr>\n",
       "    <tr>\n",
       "      <th>15</th>\n",
       "      <td>0.306691</td>\n",
       "      <td>0.88824</td>\n",
       "      <td>0.379981</td>\n",
       "      <td>0.84268</td>\n",
       "      <td>15</td>\n",
       "    </tr>\n",
       "    <tr>\n",
       "      <th>16</th>\n",
       "      <td>0.292159</td>\n",
       "      <td>0.89516</td>\n",
       "      <td>0.378094</td>\n",
       "      <td>0.84164</td>\n",
       "      <td>16</td>\n",
       "    </tr>\n",
       "    <tr>\n",
       "      <th>17</th>\n",
       "      <td>0.280548</td>\n",
       "      <td>0.90308</td>\n",
       "      <td>0.383573</td>\n",
       "      <td>0.84104</td>\n",
       "      <td>17</td>\n",
       "    </tr>\n",
       "  </tbody>\n",
       "</table>\n",
       "</div>"
      ],
      "text/plain": [
       "           loss  accuracy  val_loss  val_accuracy  Epoch\n",
       "Epoch                                                   \n",
       "1      0.693126   0.50072  0.693023       0.51316      1\n",
       "2      0.692992   0.50960  0.692884       0.51756      2\n",
       "3      0.692798   0.51236  0.692715       0.51376      3\n",
       "4      0.692611   0.51112  0.692482       0.52728      4\n",
       "5      0.691710   0.52684  0.691557       0.54172      5\n",
       "6      0.688563   0.55308  0.685861       0.57548      6\n",
       "7      0.624094   0.66536  0.512277       0.78876      7\n",
       "8      0.511589   0.76512  0.415949       0.82652      8\n",
       "9      0.448217   0.80476  0.387551       0.83872      9\n",
       "10     0.415409   0.83136  0.364231       0.84260     10\n",
       "11     0.383431   0.84768  0.358177       0.84548     11\n",
       "12     0.359603   0.86456  0.349693       0.84708     12\n",
       "13     0.345492   0.87276  0.356350       0.84528     13\n",
       "14     0.326553   0.88060  0.358158       0.84388     14\n",
       "15     0.306691   0.88824  0.379981       0.84268     15\n",
       "16     0.292159   0.89516  0.378094       0.84164     16\n",
       "17     0.280548   0.90308  0.383573       0.84104     17"
      ]
     },
     "execution_count": 71,
     "metadata": {
      "tags": []
     },
     "output_type": "execute_result"
    }
   ],
   "source": [
    "df_gru=pd.DataFrame(model_gru.history.history)\n",
    "df_gru['Epoch']=range(1,18)\n",
    "df_gru.index=df_gru['Epoch']\n",
    "df_gru"
   ]
  },
  {
   "cell_type": "code",
   "execution_count": 72,
   "metadata": {
    "colab": {
     "base_uri": "https://localhost:8080/",
     "height": 51
    },
    "colab_type": "code",
    "id": "MTsusAposYx5",
    "outputId": "91504941-bb80-44ea-eea7-5897c58f0514"
   },
   "outputs": [
    {
     "name": "stdout",
     "output_type": "stream",
     "text": [
      "391/391 [==============================] - 3s 6ms/step - loss: 0.3836 - accuracy: 0.8410\n",
      "Test accuracy: 0.8410400152206421\n"
     ]
    }
   ],
   "source": [
    "score_gru = model_gru.evaluate(testing_padded, testing_label_final, batch_size=64, verbose=1)\n",
    "print('Test accuracy:', score_gru[1])"
   ]
  },
  {
   "cell_type": "code",
   "execution_count": 73,
   "metadata": {
    "colab": {
     "base_uri": "https://localhost:8080/",
     "height": 295
    },
    "colab_type": "code",
    "id": "sOmsQrlGsaAt",
    "outputId": "f2a9ce57-500e-4639-85c3-116abc08ef95"
   },
   "outputs": [
    {
     "data": {
      "image/png": "[encoded data removed]",
      "text/plain": [
       "<Figure size 432x288 with 1 Axes>"
      ]
     },
     "metadata": {
      "needs_background": "light",
      "tags": []
     },
     "output_type": "display_data"
    }
   ],
   "source": [
    "#Loss Graph - Gated recurrent unit(GRU)(Training and Validation)\n",
    "plt.plot(df_gru['loss'], color='blue')\n",
    "plt.plot(df_gru['val_loss'], color='green')\n",
    "plt.title('Gated recurrent unit(GRU) Layer Model Loss')\n",
    "plt.ylabel('loss')\n",
    "plt.xlabel('epoch')\n",
    "plt.legend(['train_loss', 'val_loss'])\n",
    "plt.show()"
   ]
  },
  {
   "cell_type": "code",
   "execution_count": 74,
   "metadata": {
    "colab": {
     "base_uri": "https://localhost:8080/",
     "height": 295
    },
    "colab_type": "code",
    "id": "vrSCknsNsrqf",
    "outputId": "ba338afc-842a-49d9-a624-894f039bfd1b"
   },
   "outputs": [
    {
     "data": {
      "image/png": "[encoded data removed]",
      "text/plain": [
       "<Figure size 432x288 with 1 Axes>"
      ]
     },
     "metadata": {
      "needs_background": "light",
      "tags": []
     },
     "output_type": "display_data"
    }
   ],
   "source": [
    "# Accuracy Graph - Gated recurrent unit(GRU)(Training and Validation) \n",
    "plt.plot(df_gru['accuracy'], color='blue')\n",
    "plt.plot(df_gru['val_accuracy'], color='green')\n",
    "plt.title('Gated recurrent unit(GRU) Layer Model Accuracy')\n",
    "plt.ylabel('accuracy')\n",
    "plt.xlabel('epoch')\n",
    "plt.legend(['train_acc', 'val_acc'])\n",
    "plt.show()"
   ]
  }
 ],
 "metadata": {
  "accelerator": "GPU",
  "colab": {
   "collapsed_sections": [],
   "name": "IMDb.ipynb",
   "provenance": []
  },
  "kernelspec": {
   "display_name": "Python 3",
   "language": "python",
   "name": "python3"
  },
  "language_info": {
   "codemirror_mode": {
    "name": "ipython",
    "version": 3
   },
   "file_extension": ".py",
   "mimetype": "text/x-python",
   "name": "python",
   "nbconvert_exporter": "python",
   "pygments_lexer": "ipython3",
   "version": "3.7.4"
  }
 },
 "nbformat": 4,
 "nbformat_minor": 1
}
