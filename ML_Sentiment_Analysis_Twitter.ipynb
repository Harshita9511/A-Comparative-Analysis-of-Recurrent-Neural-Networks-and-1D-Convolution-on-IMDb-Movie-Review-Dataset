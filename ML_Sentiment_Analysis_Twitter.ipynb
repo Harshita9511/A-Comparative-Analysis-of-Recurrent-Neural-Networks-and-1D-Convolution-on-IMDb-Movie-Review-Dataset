{
  "nbformat": 4,
  "nbformat_minor": 0,
  "metadata": {
    "colab": {
      "name": "ML_Sentiment_Analysis_Twitter.ipynb",
      "provenance": [],
      "collapsed_sections": [],
      "include_colab_link": true
    },
    "kernelspec": {
      "display_name": "Python 3",
      "language": "python",
      "name": "python3"
    },
    "language_info": {
      "codemirror_mode": {
        "name": "ipython",
        "version": 3
      },
      "file_extension": ".py",
      "mimetype": "text/x-python",
      "name": "python",
      "nbconvert_exporter": "python",
      "pygments_lexer": "ipython3",
      "version": "3.7.4"
    },
    "accelerator": "GPU"
  },
  "cells": [
    {
      "cell_type": "markdown",
      "metadata": {
        "id": "view-in-github",
        "colab_type": "text"
      },
      "source": [
        "<a href=\"https://colab.research.google.com/github/Harshita9511/A-Comparative-Analysis-of-Recurrent-Neural-Networks-and-1D-Convolution-on-IMDb-Movie-Review-Dataset/blob/master/ML_Sentiment_Analysis_Twitter.ipynb\" target=\"_parent\"><img src=\"https://colab.research.google.com/assets/colab-badge.svg\" alt=\"Open In Colab\"/></a>"
      ]
    },
    {
      "cell_type": "code",
      "metadata": {
        "colab_type": "code",
        "id": "BCoy_jeHAwPa",
        "colab": {}
      },
      "source": [
        "import pandas as pd\n",
        "import numpy as np\n",
        "import matplotlib.pyplot as plt\n",
        "import seaborn as sns\n",
        "%matplotlib inline"
      ],
      "execution_count": 0,
      "outputs": []
    },
    {
      "cell_type": "code",
      "metadata": {
        "id": "fslb3aIqhUKd",
        "colab_type": "code",
        "outputId": "c940561f-93f2-428e-c322-7c0552e913ef",
        "colab": {
          "base_uri": "https://localhost:8080/",
          "height": 204
        }
      },
      "source": [
        "df_train=pd.read_csv(\"train_dataset.csv\")\n",
        "df_train.head()"
      ],
      "execution_count": 0,
      "outputs": [
        {
          "output_type": "execute_result",
          "data": {
            "text/html": [
              "<div>\n",
              "<style scoped>\n",
              "    .dataframe tbody tr th:only-of-type {\n",
              "        vertical-align: middle;\n",
              "    }\n",
              "\n",
              "    .dataframe tbody tr th {\n",
              "        vertical-align: top;\n",
              "    }\n",
              "\n",
              "    .dataframe thead th {\n",
              "        text-align: right;\n",
              "    }\n",
              "</style>\n",
              "<table border=\"1\" class=\"dataframe\">\n",
              "  <thead>\n",
              "    <tr style=\"text-align: right;\">\n",
              "      <th></th>\n",
              "      <th>id</th>\n",
              "      <th>label</th>\n",
              "      <th>tweet</th>\n",
              "    </tr>\n",
              "  </thead>\n",
              "  <tbody>\n",
              "    <tr>\n",
              "      <th>0</th>\n",
              "      <td>1</td>\n",
              "      <td>0</td>\n",
              "      <td>#fingerprint #Pregnancy Test https://goo.gl/h1...</td>\n",
              "    </tr>\n",
              "    <tr>\n",
              "      <th>1</th>\n",
              "      <td>2</td>\n",
              "      <td>0</td>\n",
              "      <td>Finally a transparant silicon case ^^ Thanks t...</td>\n",
              "    </tr>\n",
              "    <tr>\n",
              "      <th>2</th>\n",
              "      <td>3</td>\n",
              "      <td>0</td>\n",
              "      <td>We love this! Would you go? #talk #makememorie...</td>\n",
              "    </tr>\n",
              "    <tr>\n",
              "      <th>3</th>\n",
              "      <td>4</td>\n",
              "      <td>0</td>\n",
              "      <td>I'm wired I know I'm George I was made that wa...</td>\n",
              "    </tr>\n",
              "    <tr>\n",
              "      <th>4</th>\n",
              "      <td>5</td>\n",
              "      <td>1</td>\n",
              "      <td>What amazing service! Apple won't even talk to...</td>\n",
              "    </tr>\n",
              "  </tbody>\n",
              "</table>\n",
              "</div>"
            ],
            "text/plain": [
              "   id  label                                              tweet\n",
              "0   1      0  #fingerprint #Pregnancy Test https://goo.gl/h1...\n",
              "1   2      0  Finally a transparant silicon case ^^ Thanks t...\n",
              "2   3      0  We love this! Would you go? #talk #makememorie...\n",
              "3   4      0  I'm wired I know I'm George I was made that wa...\n",
              "4   5      1  What amazing service! Apple won't even talk to..."
            ]
          },
          "metadata": {
            "tags": []
          },
          "execution_count": 23
        }
      ]
    },
    {
      "cell_type": "code",
      "metadata": {
        "id": "ycP1u_Gy7fIp",
        "colab_type": "code",
        "outputId": "fc232894-351d-4179-9bfc-c21d56ae7e01",
        "colab": {
          "base_uri": "https://localhost:8080/",
          "height": 204
        }
      },
      "source": [
        "df_test=pd.read_csv(\"test_dataset.csv\")\n",
        "df_test.head()"
      ],
      "execution_count": 0,
      "outputs": [
        {
          "output_type": "execute_result",
          "data": {
            "text/html": [
              "<div>\n",
              "<style scoped>\n",
              "    .dataframe tbody tr th:only-of-type {\n",
              "        vertical-align: middle;\n",
              "    }\n",
              "\n",
              "    .dataframe tbody tr th {\n",
              "        vertical-align: top;\n",
              "    }\n",
              "\n",
              "    .dataframe thead th {\n",
              "        text-align: right;\n",
              "    }\n",
              "</style>\n",
              "<table border=\"1\" class=\"dataframe\">\n",
              "  <thead>\n",
              "    <tr style=\"text-align: right;\">\n",
              "      <th></th>\n",
              "      <th>id</th>\n",
              "      <th>tweet</th>\n",
              "    </tr>\n",
              "  </thead>\n",
              "  <tbody>\n",
              "    <tr>\n",
              "      <th>0</th>\n",
              "      <td>7921</td>\n",
              "      <td>I hate the new #iphone upgrade. Won't let me d...</td>\n",
              "    </tr>\n",
              "    <tr>\n",
              "      <th>1</th>\n",
              "      <td>7922</td>\n",
              "      <td>currently shitting my fucking pants. #apple #i...</td>\n",
              "    </tr>\n",
              "    <tr>\n",
              "      <th>2</th>\n",
              "      <td>7923</td>\n",
              "      <td>I'd like to puts some CD-ROMS on my iPad, is t...</td>\n",
              "    </tr>\n",
              "    <tr>\n",
              "      <th>3</th>\n",
              "      <td>7924</td>\n",
              "      <td>My ipod is officially dead. I lost all my pict...</td>\n",
              "    </tr>\n",
              "    <tr>\n",
              "      <th>4</th>\n",
              "      <td>7925</td>\n",
              "      <td>Been fighting iTunes all night! I only want th...</td>\n",
              "    </tr>\n",
              "  </tbody>\n",
              "</table>\n",
              "</div>"
            ],
            "text/plain": [
              "     id                                              tweet\n",
              "0  7921  I hate the new #iphone upgrade. Won't let me d...\n",
              "1  7922  currently shitting my fucking pants. #apple #i...\n",
              "2  7923  I'd like to puts some CD-ROMS on my iPad, is t...\n",
              "3  7924  My ipod is officially dead. I lost all my pict...\n",
              "4  7925  Been fighting iTunes all night! I only want th..."
            ]
          },
          "metadata": {
            "tags": []
          },
          "execution_count": 24
        }
      ]
    },
    {
      "cell_type": "code",
      "metadata": {
        "id": "LToXDygO7fGl",
        "colab_type": "code",
        "outputId": "279611c2-7122-4c10-dd2b-48103981dd71",
        "colab": {
          "base_uri": "https://localhost:8080/",
          "height": 51
        }
      },
      "source": [
        "import nltk\n",
        "from nltk.corpus import stopwords\n",
        "nltk.download('stopwords')\n",
        "import re\n",
        "import string\n",
        "from string import punctuation\n",
        "\n",
        "df_train['tweet'] = df_train['tweet'].str.translate(str.maketrans('','', string.punctuation))\n",
        "df_test['tweet'] = df_test['tweet'].str.translate(str.maketrans('','', string.punctuation))\n",
        "\n",
        "def processTweet(tweet):\n",
        "    # Remove HTML special entities (e.g. &amp;)\n",
        "    tweet = re.sub(r'\\&\\w*;', '', tweet)\n",
        "    #Convert @username to AT_USER\n",
        "    tweet = re.sub('@[^\\s]+','',tweet)\n",
        "    # Remove tickers\n",
        "    tweet = re.sub(r'\\$\\w*', '', tweet)\n",
        "    # To lowercase\n",
        "    tweet = tweet.lower()\n",
        "    # Remove hyperlinks\n",
        "    tweet = re.sub(r'https?:\\/\\/.*\\/\\w*', '', tweet)\n",
        "    # Remove hashtags\n",
        "    tweet = re.sub(r'#\\w*', '', tweet)\n",
        "    # Remove words with 2 or fewer letters\n",
        "    tweet = re.sub(r'\\b\\w{1,2}\\b', '', tweet)\n",
        "    # Remove whitespace (including new line characters)\n",
        "    tweet = re.sub(r'\\s\\s+', ' ', tweet)\n",
        "    # Remove single space remaining at the front of the tweet.\n",
        "    tweet = tweet.lstrip(' ') \n",
        "    # Remove characters beyond Basic Multilingual Plane (BMP) of Unicode:\n",
        "    tweet = ''.join(c for c in tweet if c <= '\\uFFFF') \n",
        "    return tweet\n",
        "# ______________________________________________________________\n",
        "# clean dataframe's text column\n",
        "df_train['text'] = df_train['tweet'].apply(processTweet)\n",
        "df_test['text'] = df_test['tweet'].apply(processTweet)\n",
        "\n",
        "# tokenize helper function\n",
        "def text_process(raw_text):\n",
        "    \"\"\"\n",
        "    Takes in a string of text, then performs the following:\n",
        "    1. Remove all punctuation\n",
        "    2. Remove all stopwords\n",
        "    3. Returns a list of the cleaned text\n",
        "    \"\"\"\n",
        "    # Check characters to see if they are in punctuation\n",
        "    nopunc = [char for char in list(raw_text) if char not in string.punctuation]\n",
        "    # Join the characters again to form the string.\n",
        "    nopunc = ''.join(nopunc)\n",
        "    \n",
        "    # Now just remove any stopwords\n",
        "    sw= [word.lower() for word in nopunc.split() if word not in stopwords.words('english')]\n",
        "    return ' '.join(sw)\n",
        "\n",
        "df_train['text'] = df_train['text'].apply(text_process)\n",
        "df_test['text'] = df_test['text'].apply(text_process) "
      ],
      "execution_count": 0,
      "outputs": [
        {
          "output_type": "stream",
          "text": [
            "[nltk_data] Downloading package stopwords to /root/nltk_data...\n",
            "[nltk_data]   Package stopwords is already up-to-date!\n"
          ],
          "name": "stdout"
        }
      ]
    },
    {
      "cell_type": "code",
      "metadata": {
        "id": "unkDFHFChfO1",
        "colab_type": "code",
        "colab": {}
      },
      "source": [
        "df_train['Rating_Polarity'] = df_train['label'].apply(lambda x: 'Positive' if x==0  else 'Negative')"
      ],
      "execution_count": 0,
      "outputs": []
    },
    {
      "cell_type": "code",
      "metadata": {
        "id": "kESq794Ohfzn",
        "colab_type": "code",
        "outputId": "9739fda6-c9e1-4603-b679-32e9927d9708",
        "colab": {
          "base_uri": "https://localhost:8080/",
          "height": 384
        }
      },
      "source": [
        "df_class_Positive = df_train[df_train['Rating_Polarity'] == 'Positive']\n",
        "df_class_Negative = df_train[df_train['Rating_Polarity'] == 'Negative']\n",
        "\n",
        "df_class_Negative_over = df_class_Negative.sample(len(df_class_Positive), replace=True)\n",
        "df_train = pd.concat([df_class_Positive, df_class_Negative_over], axis=0)\n",
        "\n",
        "print('Random over-sampling:')\n",
        "print(df_train['Rating_Polarity'].value_counts())\n",
        "\n",
        "df_train['Rating_Polarity'].value_counts().plot(kind='bar', title='Count (Rating_Polarity)', color='orange');"
      ],
      "execution_count": 0,
      "outputs": [
        {
          "output_type": "stream",
          "text": [
            "Random over-sampling:\n",
            "Negative    5894\n",
            "Positive    5894\n",
            "Name: Rating_Polarity, dtype: int64\n"
          ],
          "name": "stdout"
        },
        {
          "output_type": "display_data",
          "data": {
            "image/png": "[encoded data removed]",
            "text/plain": [
              "<Figure size 432x288 with 1 Axes>"
            ]
          },
          "metadata": {
            "tags": [],
            "needs_background": "light"
          }
        }
      ]
    },
    {
      "cell_type": "code",
      "metadata": {
        "id": "Tc3K9ANGm0DV",
        "colab_type": "code",
        "colab": {}
      },
      "source": [
        "np.random.seed(42)"
      ],
      "execution_count": 0,
      "outputs": []
    },
    {
      "cell_type": "code",
      "metadata": {
        "id": "eUc47nV-UzwQ",
        "colab_type": "code",
        "outputId": "94a69a0f-cab7-4d6a-cb0e-17d0fcbab8e4",
        "colab": {
          "base_uri": "https://localhost:8080/",
          "height": 204
        }
      },
      "source": [
        "from sklearn.utils import shuffle\n",
        "df_train = shuffle(df_train, random_state=42)\n",
        "df_train.head()"
      ],
      "execution_count": 0,
      "outputs": [
        {
          "output_type": "execute_result",
          "data": {
            "text/html": [
              "<div>\n",
              "<style scoped>\n",
              "    .dataframe tbody tr th:only-of-type {\n",
              "        vertical-align: middle;\n",
              "    }\n",
              "\n",
              "    .dataframe tbody tr th {\n",
              "        vertical-align: top;\n",
              "    }\n",
              "\n",
              "    .dataframe thead th {\n",
              "        text-align: right;\n",
              "    }\n",
              "</style>\n",
              "<table border=\"1\" class=\"dataframe\">\n",
              "  <thead>\n",
              "    <tr style=\"text-align: right;\">\n",
              "      <th></th>\n",
              "      <th>id</th>\n",
              "      <th>label</th>\n",
              "      <th>tweet</th>\n",
              "      <th>text</th>\n",
              "      <th>Rating_Polarity</th>\n",
              "    </tr>\n",
              "  </thead>\n",
              "  <tbody>\n",
              "    <tr>\n",
              "      <th>2811</th>\n",
              "      <td>2812</td>\n",
              "      <td>1</td>\n",
              "      <td>As the saying goes  google is going to rue the...</td>\n",
              "      <td>saying goes google going rue day decided work ...</td>\n",
              "      <td>Negative</td>\n",
              "    </tr>\n",
              "    <tr>\n",
              "      <th>3008</th>\n",
              "      <td>3009</td>\n",
              "      <td>1</td>\n",
              "      <td>timcook should slap the CEO of BlackBerry for ...</td>\n",
              "      <td>timcook slap ceo blackberry audacity campaign ...</td>\n",
              "      <td>Negative</td>\n",
              "    </tr>\n",
              "    <tr>\n",
              "      <th>3706</th>\n",
              "      <td>3707</td>\n",
              "      <td>0</td>\n",
              "      <td>Merry Christmas Big switch I can take nice pho...</td>\n",
              "      <td>merry christmas big switch take nice photos sa...</td>\n",
              "      <td>Positive</td>\n",
              "    </tr>\n",
              "    <tr>\n",
              "      <th>2573</th>\n",
              "      <td>2574</td>\n",
              "      <td>0</td>\n",
              "      <td>Welcome to IG World Hehehe restday instagram p...</td>\n",
              "      <td>welcome world hehehe restday instagram picofth...</td>\n",
              "      <td>Positive</td>\n",
              "    </tr>\n",
              "    <tr>\n",
              "      <th>6423</th>\n",
              "      <td>6424</td>\n",
              "      <td>1</td>\n",
              "      <td>The Fucking Mac Calendar 1 Is Now Off Fucking ...</td>\n",
              "      <td>fucking mac calendar fucking center httpdlvrit...</td>\n",
              "      <td>Negative</td>\n",
              "    </tr>\n",
              "  </tbody>\n",
              "</table>\n",
              "</div>"
            ],
            "text/plain": [
              "        id  ...  Rating_Polarity\n",
              "2811  2812  ...         Negative\n",
              "3008  3009  ...         Negative\n",
              "3706  3707  ...         Positive\n",
              "2573  2574  ...         Positive\n",
              "6423  6424  ...         Negative\n",
              "\n",
              "[5 rows x 5 columns]"
            ]
          },
          "metadata": {
            "tags": []
          },
          "execution_count": 29
        }
      ]
    },
    {
      "cell_type": "code",
      "metadata": {
        "id": "w0MdtzHTiIrR",
        "colab_type": "code",
        "colab": {}
      },
      "source": [
        "X_train=df_train['text'].values\n",
        "y_train=df_train['label'].values\n",
        "\n",
        "X_test=df_test['text'].values"
      ],
      "execution_count": 0,
      "outputs": []
    },
    {
      "cell_type": "code",
      "metadata": {
        "id": "RbiO_Uraih4T",
        "colab_type": "code",
        "colab": {}
      },
      "source": [
        "from sklearn.feature_extraction.text import CountVectorizer\n",
        "\n",
        "vect= CountVectorizer(min_df=5, ngram_range=(1,2))\n",
        "X_train=vect.fit_transform(X_train)\n",
        "X_test=vect.transform(X_test)"
      ],
      "execution_count": 0,
      "outputs": []
    },
    {
      "cell_type": "code",
      "metadata": {
        "id": "7RK6vAR6oXW8",
        "colab_type": "code",
        "colab": {}
      },
      "source": [
        "from sklearn.feature_extraction.text import TfidfTransformer\n",
        "tfidf=TfidfTransformer()\n",
        "X_train=tfidf.fit_transform(X_train)\n",
        "X_test=tfidf.transform(X_test)"
      ],
      "execution_count": 0,
      "outputs": []
    },
    {
      "cell_type": "code",
      "metadata": {
        "id": "lS9WJWLxszxe",
        "colab_type": "code",
        "outputId": "b76c230a-9b34-42f9-a6ae-ed76dd47dd84",
        "colab": {
          "base_uri": "https://localhost:8080/",
          "height": 85
        }
      },
      "source": [
        "from sklearn import svm\n",
        "model_svm = svm.SVC(kernel='linear', probability=True, random_state=42)\n",
        "model_svm.fit(X_train, y_train)"
      ],
      "execution_count": 0,
      "outputs": [
        {
          "output_type": "execute_result",
          "data": {
            "text/plain": [
              "SVC(C=1.0, break_ties=False, cache_size=200, class_weight=None, coef0=0.0,\n",
              "    decision_function_shape='ovr', degree=3, gamma='scale', kernel='linear',\n",
              "    max_iter=-1, probability=True, random_state=42, shrinking=True, tol=0.001,\n",
              "    verbose=False)"
            ]
          },
          "metadata": {
            "tags": []
          },
          "execution_count": 33
        }
      ]
    },
    {
      "cell_type": "code",
      "metadata": {
        "id": "zsiNKJfPMq8P",
        "colab_type": "code",
        "outputId": "1465e7ba-6885-4ad3-d5f5-876eafd23901",
        "colab": {
          "base_uri": "https://localhost:8080/",
          "height": 102
        }
      },
      "source": [
        "from sklearn.linear_model import LogisticRegression\n",
        "model_lr = LogisticRegression(random_state=42)\n",
        "model_lr.fit(X_train, y_train)"
      ],
      "execution_count": 0,
      "outputs": [
        {
          "output_type": "execute_result",
          "data": {
            "text/plain": [
              "LogisticRegression(C=1.0, class_weight=None, dual=False, fit_intercept=True,\n",
              "                   intercept_scaling=1, l1_ratio=None, max_iter=100,\n",
              "                   multi_class='auto', n_jobs=None, penalty='l2',\n",
              "                   random_state=42, solver='lbfgs', tol=0.0001, verbose=0,\n",
              "                   warm_start=False)"
            ]
          },
          "metadata": {
            "tags": []
          },
          "execution_count": 34
        }
      ]
    },
    {
      "cell_type": "code",
      "metadata": {
        "id": "4NmXNEIpJgDe",
        "colab_type": "code",
        "outputId": "5ca57fc8-2d1d-48e3-8674-04af6c35181e",
        "colab": {
          "base_uri": "https://localhost:8080/",
          "height": 34
        }
      },
      "source": [
        "X_train_arr= X_train.toarray()\n",
        "X_test= X_test.toarray()\n",
        "\n",
        "from sklearn.naive_bayes import MultinomialNB\n",
        "model_mnb = MultinomialNB()\n",
        "model_mnb.fit(X_train_arr, y_train)"
      ],
      "execution_count": 0,
      "outputs": [
        {
          "output_type": "execute_result",
          "data": {
            "text/plain": [
              "MultinomialNB(alpha=1.0, class_prior=None, fit_prior=True)"
            ]
          },
          "metadata": {
            "tags": []
          },
          "execution_count": 35
        }
      ]
    },
    {
      "cell_type": "code",
      "metadata": {
        "id": "XDb0EIM7Nke9",
        "colab_type": "code",
        "outputId": "880db9f0-1370-49d5-820c-487a094c174f",
        "colab": {
          "base_uri": "https://localhost:8080/",
          "height": 34
        }
      },
      "source": [
        "from sklearn.naive_bayes import ComplementNB\n",
        "model_cnb = ComplementNB()\n",
        "model_cnb.fit(X_train_arr, y_train)"
      ],
      "execution_count": 0,
      "outputs": [
        {
          "output_type": "execute_result",
          "data": {
            "text/plain": [
              "ComplementNB(alpha=1.0, class_prior=None, fit_prior=True, norm=False)"
            ]
          },
          "metadata": {
            "tags": []
          },
          "execution_count": 36
        }
      ]
    },
    {
      "cell_type": "code",
      "metadata": {
        "id": "TwlIVJTwU5wr",
        "colab_type": "code",
        "outputId": "6e51168f-89ee-4c91-b323-3ef26a83b4bc",
        "colab": {
          "base_uri": "https://localhost:8080/",
          "height": 119
        }
      },
      "source": [
        "from sklearn.ensemble import BaggingClassifier\n",
        "model_bagg_cnb = BaggingClassifier(ComplementNB(), max_samples=0.5, max_features=0.5, random_state=42)\n",
        "model_bagg_cnb.fit(X_train, y_train)\n",
        "\n",
        "model_bagg_mnb = BaggingClassifier(MultinomialNB(), max_samples=0.5, max_features=0.5, random_state=42)\n",
        "model_bagg_mnb.fit(X_train, y_train)"
      ],
      "execution_count": 0,
      "outputs": [
        {
          "output_type": "execute_result",
          "data": {
            "text/plain": [
              "BaggingClassifier(base_estimator=MultinomialNB(alpha=1.0, class_prior=None,\n",
              "                                               fit_prior=True),\n",
              "                  bootstrap=True, bootstrap_features=False, max_features=0.5,\n",
              "                  max_samples=0.5, n_estimators=10, n_jobs=None,\n",
              "                  oob_score=False, random_state=42, verbose=0,\n",
              "                  warm_start=False)"
            ]
          },
          "metadata": {
            "tags": []
          },
          "execution_count": 37
        }
      ]
    },
    {
      "cell_type": "code",
      "metadata": {
        "id": "0VMixY65UD0y",
        "colab_type": "code",
        "outputId": "85e87b9c-09c4-4463-c8df-f055ac42578b",
        "colab": {
          "base_uri": "https://localhost:8080/",
          "height": 530
        }
      },
      "source": [
        "from sklearn.ensemble import VotingClassifier\n",
        "\n",
        "estimators=[('SVM', model_svm), ('LR', model_lr), ('Multinomial NB', model_mnb), ('Complement NB', model_cnb), ('Bagging Complement NB ', model_bagg_cnb), ('Bagging MultinomialNB', model_bagg_mnb)]\n",
        "\n",
        "weighted_avg_voting = VotingClassifier(estimators, voting='soft', weights=[2, 1, 3, 4, 3, 3])\n",
        "weighted_avg_voting.fit(X_train, y_train)\n",
        "\n",
        "majority_voting = VotingClassifier([('SVM', model_svm), ('LR', model_lr), ('Multinomial NB', model_mnb), ('Complement NB', model_cnb), ('Bagging Complement NB ', model_bagg_cnb), ('Bagging MultinomialNB', model_bagg_mnb), ('Weighted Average Voting', weighted_avg_voting)], voting='hard')\n",
        "majority_voting.fit(X_train, y_train)\n"
      ],
      "execution_count": 0,
      "outputs": [
        {
          "output_type": "execute_result",
          "data": {
            "text/plain": [
              "VotingClassifier(estimators=[('SVM',\n",
              "                              SVC(C=1.0, break_ties=False, cache_size=200,\n",
              "                                  class_weight=None, coef0=0.0,\n",
              "                                  decision_function_shape='ovr', degree=3,\n",
              "                                  gamma='scale', kernel='linear', max_iter=-1,\n",
              "                                  probability=True, random_state=42,\n",
              "                                  shrinking=True, tol=0.001, verbose=False)),\n",
              "                             ('LR',\n",
              "                              LogisticRegression(C=1.0, class_weight=None,\n",
              "                                                 dual=False, fit_intercept=True,\n",
              "                                                 intercept_...\n",
              "                                                            BaggingClassifier(base_estimator=MultinomialNB(alpha=1.0,\n",
              "                                                                                                           class_prior=None,\n",
              "                                                                                                           fit_prior=True),\n",
              "                                                                              bootstrap=True,\n",
              "                                                                              bootstrap_features=False,\n",
              "                                                                              max_features=0.5,\n",
              "                                                                              max_samples=0.5,\n",
              "                                                                              n_estimators=10,\n",
              "                                                                              n_jobs=None,\n",
              "                                                                              oob_score=False,\n",
              "                                                                              random_state=42,\n",
              "                                                                              verbose=0,\n",
              "                                                                              warm_start=False))],\n",
              "                                               flatten_transform=True,\n",
              "                                               n_jobs=None, voting='soft',\n",
              "                                               weights=[2, 1, 3, 4, 3, 3]))],\n",
              "                 flatten_transform=True, n_jobs=None, voting='hard',\n",
              "                 weights=None)"
            ]
          },
          "metadata": {
            "tags": []
          },
          "execution_count": 38
        }
      ]
    },
    {
      "cell_type": "code",
      "metadata": {
        "id": "71xh3mp-kfw1",
        "colab_type": "code",
        "colab": {}
      },
      "source": [
        "df_test['label']=majority_voting.predict(X_test)"
      ],
      "execution_count": 0,
      "outputs": []
    },
    {
      "cell_type": "code",
      "metadata": {
        "id": "9pwyFrKnlMtY",
        "colab_type": "code",
        "colab": {}
      },
      "source": [
        "submission=df_test[['id', 'label']].to_csv('submission.csv', index=False)"
      ],
      "execution_count": 0,
      "outputs": []
    }
  ]
}